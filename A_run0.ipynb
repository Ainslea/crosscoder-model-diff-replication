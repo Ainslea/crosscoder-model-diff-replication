{
 "cells": [
  {
   "cell_type": "code",
   "execution_count": 1,
   "id": "1b55cf78",
   "metadata": {},
   "outputs": [
    {
     "name": "stdout",
     "output_type": "stream",
     "text": [
      "Traceback (most recent call last):\n",
      "  File \"/workspaces/crosscoder-model-diff-replication/train.py\", line 2, in <module>\n",
      "    from utils import *\n",
      "  File \"/workspaces/crosscoder-model-diff-replication/utils.py\", line 15, in <module>\n",
      "    import einops\n",
      "ModuleNotFoundError: No module named 'einops'\n"
     ]
    }
   ],
   "source": [
    "!python 'train.py'"
   ]
  }
 ],
 "metadata": {
  "kernelspec": {
   "display_name": "Python 3",
   "language": "python",
   "name": "python3"
  },
  "language_info": {
   "codemirror_mode": {
    "name": "ipython",
    "version": 3
   },
   "file_extension": ".py",
   "mimetype": "text/x-python",
   "name": "python",
   "nbconvert_exporter": "python",
   "pygments_lexer": "ipython3",
   "version": "3.12.1"
  }
 },
 "nbformat": 4,
 "nbformat_minor": 5
}
